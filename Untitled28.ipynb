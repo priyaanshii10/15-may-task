{
 "cells": [
  {
   "cell_type": "code",
   "execution_count": 1,
   "id": "4efa9cf5",
   "metadata": {},
   "outputs": [],
   "source": [
    "s=\"this is My First Python programming class and i am learNING python string and its function\""
   ]
  },
  {
   "cell_type": "code",
   "execution_count": 2,
   "id": "b2e4df5c",
   "metadata": {},
   "outputs": [
    {
     "data": {
      "text/plain": [
       "'h   r tnrrmglsnimeNGyosi dtfco'"
      ]
     },
     "execution_count": 2,
     "metadata": {},
     "output_type": "execute_result"
    }
   ],
   "source": [
    "s[1:300:3]"
   ]
  },
  {
   "cell_type": "code",
   "execution_count": 3,
   "id": "85e554d2",
   "metadata": {},
   "outputs": [
    {
     "data": {
      "text/plain": [
       "'noitcnuf sti dna gnirts nohtyp GNINrael ma i dna ssalc gnimmargorp nohtyP tsriF yM si siht'"
      ]
     },
     "execution_count": 3,
     "metadata": {},
     "output_type": "execute_result"
    }
   ],
   "source": [
    "s[::-1]"
   ]
  },
  {
   "cell_type": "code",
   "execution_count": 5,
   "id": "9d77a221",
   "metadata": {},
   "outputs": [],
   "source": [
    "s=s.upper()"
   ]
  },
  {
   "cell_type": "code",
   "execution_count": 6,
   "id": "9e126b11",
   "metadata": {},
   "outputs": [
    {
     "data": {
      "text/plain": [
       "'THIS IS MY FIRST PYTHON PROGRAMMING CLASS AND I AM LEARNING PYTHON STRING AND ITS FUNCTION'"
      ]
     },
     "execution_count": 6,
     "metadata": {},
     "output_type": "execute_result"
    }
   ],
   "source": [
    "s"
   ]
  },
  {
   "cell_type": "code",
   "execution_count": 10,
   "id": "cdd54f4d",
   "metadata": {},
   "outputs": [
    {
     "data": {
      "text/plain": [
       "['THIS',\n",
       " 'IS',\n",
       " 'MY',\n",
       " 'FIRST',\n",
       " 'PYTHON',\n",
       " 'PROGRAMMING',\n",
       " 'CLASS',\n",
       " 'AND',\n",
       " 'I',\n",
       " 'AM',\n",
       " 'LEARNING',\n",
       " 'PYTHON',\n",
       " 'STRING',\n",
       " 'AND',\n",
       " 'ITS',\n",
       " 'FUNCTION']"
      ]
     },
     "execution_count": 10,
     "metadata": {},
     "output_type": "execute_result"
    }
   ],
   "source": [
    "s.split()"
   ]
  },
  {
   "cell_type": "code",
   "execution_count": 11,
   "id": "22c09e0f",
   "metadata": {},
   "outputs": [
    {
     "data": {
      "text/plain": [
       "'this is my first python programming class and i am learning python string and its function'"
      ]
     },
     "execution_count": 11,
     "metadata": {},
     "output_type": "execute_result"
    }
   ],
   "source": [
    "s.lower()"
   ]
  },
  {
   "cell_type": "code",
   "execution_count": 12,
   "id": "db77c3d7",
   "metadata": {},
   "outputs": [
    {
     "data": {
      "text/plain": [
       "'This is my first python programming class and i am learning python string and its function'"
      ]
     },
     "execution_count": 12,
     "metadata": {},
     "output_type": "execute_result"
    }
   ],
   "source": [
    "s.capitalize()"
   ]
  },
  {
   "cell_type": "raw",
   "id": "13b86503",
   "metadata": {},
   "source": [
    "isalnum()= isalnum accepted either alphabatic or numeric valu or boyh.\n",
    "isalpha()= isalpha accepted only alphabatic value."
   ]
  },
  {
   "cell_type": "code",
   "execution_count": 15,
   "id": "4aa51911",
   "metadata": {},
   "outputs": [],
   "source": [
    "s1=\"priyanshi\\tGupta\""
   ]
  },
  {
   "cell_type": "code",
   "execution_count": 16,
   "id": "17e688bf",
   "metadata": {},
   "outputs": [
    {
     "data": {
      "text/plain": [
       "'priyanshi       Gupta'"
      ]
     },
     "execution_count": 16,
     "metadata": {},
     "output_type": "execute_result"
    }
   ],
   "source": [
    "s1.expandtabs()"
   ]
  },
  {
   "cell_type": "code",
   "execution_count": 17,
   "id": "7b547d10",
   "metadata": {},
   "outputs": [],
   "source": [
    "s2=\"             priyanshi          \""
   ]
  },
  {
   "cell_type": "code",
   "execution_count": 18,
   "id": "ba1340ff",
   "metadata": {},
   "outputs": [
    {
     "data": {
      "text/plain": [
       "'priyanshi'"
      ]
     },
     "execution_count": 18,
     "metadata": {},
     "output_type": "execute_result"
    }
   ],
   "source": [
    "s2.strip()"
   ]
  },
  {
   "cell_type": "code",
   "execution_count": 19,
   "id": "0ba789a6",
   "metadata": {},
   "outputs": [
    {
     "data": {
      "text/plain": [
       "'priyanshi          '"
      ]
     },
     "execution_count": 19,
     "metadata": {},
     "output_type": "execute_result"
    }
   ],
   "source": [
    "s2.lstrip()"
   ]
  },
  {
   "cell_type": "code",
   "execution_count": 20,
   "id": "7a8d0e2a",
   "metadata": {},
   "outputs": [
    {
     "data": {
      "text/plain": [
       "'             priyanshi'"
      ]
     },
     "execution_count": 20,
     "metadata": {},
     "output_type": "execute_result"
    }
   ],
   "source": [
    "s2.rstrip()"
   ]
  },
  {
   "cell_type": "code",
   "execution_count": 21,
   "id": "771be0f7",
   "metadata": {},
   "outputs": [],
   "source": [
    "s3=\"ineuron\""
   ]
  },
  {
   "cell_type": "code",
   "execution_count": 27,
   "id": "3d5f5c5f",
   "metadata": {},
   "outputs": [
    {
     "data": {
      "text/plain": [
       "'aneuron'"
      ]
     },
     "execution_count": 27,
     "metadata": {},
     "output_type": "execute_result"
    }
   ],
   "source": [
    "s3.replace(\"i\",\"a\")"
   ]
  },
  {
   "cell_type": "code",
   "execution_count": 28,
   "id": "2dd401a4",
   "metadata": {},
   "outputs": [
    {
     "data": {
      "text/plain": [
       "'THIS IS MY FIRST PYTHON PROGRAMMING CLASS AND I AM LEARNING PYTHON STRING AND ITS FUNCTION'"
      ]
     },
     "execution_count": 28,
     "metadata": {},
     "output_type": "execute_result"
    }
   ],
   "source": [
    "s"
   ]
  },
  {
   "cell_type": "code",
   "execution_count": 33,
   "id": "5bdc8b36",
   "metadata": {},
   "outputs": [],
   "source": [
    "s4=\"                 priya      \""
   ]
  },
  {
   "cell_type": "code",
   "execution_count": 36,
   "id": "b8e67ab5",
   "metadata": {},
   "outputs": [
    {
     "data": {
      "text/plain": [
       "'                 priya      '"
      ]
     },
     "execution_count": 36,
     "metadata": {},
     "output_type": "execute_result"
    }
   ],
   "source": [
    "s4.center(20)"
   ]
  },
  {
   "cell_type": "markdown",
   "id": "3dd936d4",
   "metadata": {},
   "source": [
    "compiler= compiler analyze the whole code and then give the error.\n",
    "interpreted= interpreted is anlyze the code one by one ."
   ]
  },
  {
   "cell_type": "raw",
   "id": "d7a1b17f",
   "metadata": {},
   "source": [
    "python is a interpeted as well as compiled language. first it interpeted the code and then compiled it."
   ]
  },
  {
   "cell_type": "raw",
   "id": "1e8c2029",
   "metadata": {},
   "source": [
    "python is used in many areas like in AI,data analysis, game devlopment,internet of things etc"
   ]
  }
 ],
 "metadata": {
  "kernelspec": {
   "display_name": "Python 3 (ipykernel)",
   "language": "python",
   "name": "python3"
  },
  "language_info": {
   "codemirror_mode": {
    "name": "ipython",
    "version": 3
   },
   "file_extension": ".py",
   "mimetype": "text/x-python",
   "name": "python",
   "nbconvert_exporter": "python",
   "pygments_lexer": "ipython3",
   "version": "3.9.7"
  }
 },
 "nbformat": 4,
 "nbformat_minor": 5
}
